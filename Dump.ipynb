##
df_earn = df["Earnings_1974"].append(df["Earnings_1975"])
df_earn = df_earn.append(df["Earnings_1978"])
sns.displot(df_earn)
df_earn.describe(include='all')