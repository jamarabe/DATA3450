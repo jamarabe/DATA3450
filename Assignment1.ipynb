{
 "cells": [
  {
   "cell_type": "markdown",
   "source": [
    "Preliminaries\n"
   ],
   "metadata": {}
  },
  {
   "cell_type": "code",
   "execution_count": 2,
   "source": [
    "#Import Stuff\n",
    "import pandas as pd\n",
    "import numpy as np\n",
    "import matplotlib.pyplot as plt\n",
    "import seaborn as sns\n",
    "import scipy.stats as ss\n"
   ],
   "outputs": [],
   "metadata": {}
  },
  {
   "cell_type": "code",
   "execution_count": 3,
   "source": [
    "#Import more stuff\n",
    "import thinkplot\n",
    "import thinkstats2"
   ],
   "outputs": [],
   "metadata": {}
  },
  {
   "cell_type": "code",
   "execution_count": 4,
   "source": [
    "#Loading data\n",
    "df = pd.read_csv(\"LabourTrainingEvaluationData.csv\")\n",
    "df.head()\n",
    "df.tail()\n",
    "df.describe(include=\"all\")"
   ],
   "outputs": [
    {
     "output_type": "execute_result",
     "data": {
      "text/html": [
       "<div>\n",
       "<style scoped>\n",
       "    .dataframe tbody tr th:only-of-type {\n",
       "        vertical-align: middle;\n",
       "    }\n",
       "\n",
       "    .dataframe tbody tr th {\n",
       "        vertical-align: top;\n",
       "    }\n",
       "\n",
       "    .dataframe thead th {\n",
       "        text-align: right;\n",
       "    }\n",
       "</style>\n",
       "<table border=\"1\" class=\"dataframe\">\n",
       "  <thead>\n",
       "    <tr style=\"text-align: right;\">\n",
       "      <th></th>\n",
       "      <th>Age</th>\n",
       "      <th>Eduacation</th>\n",
       "      <th>Race</th>\n",
       "      <th>Hisp</th>\n",
       "      <th>MaritalStatus</th>\n",
       "      <th>Nodeg</th>\n",
       "      <th>Earnings_1974</th>\n",
       "      <th>Earnings_1975</th>\n",
       "      <th>Earnings_1978</th>\n",
       "    </tr>\n",
       "  </thead>\n",
       "  <tbody>\n",
       "    <tr>\n",
       "      <th>count</th>\n",
       "      <td>15992.000000</td>\n",
       "      <td>15992</td>\n",
       "      <td>15992</td>\n",
       "      <td>15992</td>\n",
       "      <td>15992</td>\n",
       "      <td>15992.000000</td>\n",
       "      <td>15992.000000</td>\n",
       "      <td>15992.000000</td>\n",
       "      <td>15992.000000</td>\n",
       "    </tr>\n",
       "    <tr>\n",
       "      <th>unique</th>\n",
       "      <td>NaN</td>\n",
       "      <td>5</td>\n",
       "      <td>2</td>\n",
       "      <td>2</td>\n",
       "      <td>2</td>\n",
       "      <td>NaN</td>\n",
       "      <td>NaN</td>\n",
       "      <td>NaN</td>\n",
       "      <td>NaN</td>\n",
       "    </tr>\n",
       "    <tr>\n",
       "      <th>top</th>\n",
       "      <td>NaN</td>\n",
       "      <td>HighSchool</td>\n",
       "      <td>NotBlack</td>\n",
       "      <td>NotHispanic</td>\n",
       "      <td>Married</td>\n",
       "      <td>NaN</td>\n",
       "      <td>NaN</td>\n",
       "      <td>NaN</td>\n",
       "      <td>NaN</td>\n",
       "    </tr>\n",
       "    <tr>\n",
       "      <th>freq</th>\n",
       "      <td>NaN</td>\n",
       "      <td>6252</td>\n",
       "      <td>14816</td>\n",
       "      <td>14840</td>\n",
       "      <td>11382</td>\n",
       "      <td>NaN</td>\n",
       "      <td>NaN</td>\n",
       "      <td>NaN</td>\n",
       "      <td>NaN</td>\n",
       "    </tr>\n",
       "    <tr>\n",
       "      <th>mean</th>\n",
       "      <td>33.225238</td>\n",
       "      <td>NaN</td>\n",
       "      <td>NaN</td>\n",
       "      <td>NaN</td>\n",
       "      <td>NaN</td>\n",
       "      <td>0.295835</td>\n",
       "      <td>14016.800304</td>\n",
       "      <td>13650.803376</td>\n",
       "      <td>14846.659673</td>\n",
       "    </tr>\n",
       "    <tr>\n",
       "      <th>std</th>\n",
       "      <td>11.045216</td>\n",
       "      <td>NaN</td>\n",
       "      <td>NaN</td>\n",
       "      <td>NaN</td>\n",
       "      <td>NaN</td>\n",
       "      <td>0.456432</td>\n",
       "      <td>9569.795893</td>\n",
       "      <td>9270.403225</td>\n",
       "      <td>9647.391524</td>\n",
       "    </tr>\n",
       "    <tr>\n",
       "      <th>min</th>\n",
       "      <td>16.000000</td>\n",
       "      <td>NaN</td>\n",
       "      <td>NaN</td>\n",
       "      <td>NaN</td>\n",
       "      <td>NaN</td>\n",
       "      <td>0.000000</td>\n",
       "      <td>0.000000</td>\n",
       "      <td>0.000000</td>\n",
       "      <td>0.000000</td>\n",
       "    </tr>\n",
       "    <tr>\n",
       "      <th>25%</th>\n",
       "      <td>24.000000</td>\n",
       "      <td>NaN</td>\n",
       "      <td>NaN</td>\n",
       "      <td>NaN</td>\n",
       "      <td>NaN</td>\n",
       "      <td>0.000000</td>\n",
       "      <td>4403.452250</td>\n",
       "      <td>4398.823000</td>\n",
       "      <td>5669.298000</td>\n",
       "    </tr>\n",
       "    <tr>\n",
       "      <th>50%</th>\n",
       "      <td>31.000000</td>\n",
       "      <td>NaN</td>\n",
       "      <td>NaN</td>\n",
       "      <td>NaN</td>\n",
       "      <td>NaN</td>\n",
       "      <td>0.000000</td>\n",
       "      <td>15123.580000</td>\n",
       "      <td>14557.110000</td>\n",
       "      <td>16421.975000</td>\n",
       "    </tr>\n",
       "    <tr>\n",
       "      <th>75%</th>\n",
       "      <td>42.000000</td>\n",
       "      <td>NaN</td>\n",
       "      <td>NaN</td>\n",
       "      <td>NaN</td>\n",
       "      <td>NaN</td>\n",
       "      <td>1.000000</td>\n",
       "      <td>23584.180000</td>\n",
       "      <td>22923.737500</td>\n",
       "      <td>25564.670000</td>\n",
       "    </tr>\n",
       "    <tr>\n",
       "      <th>max</th>\n",
       "      <td>55.000000</td>\n",
       "      <td>NaN</td>\n",
       "      <td>NaN</td>\n",
       "      <td>NaN</td>\n",
       "      <td>NaN</td>\n",
       "      <td>1.000000</td>\n",
       "      <td>25862.320000</td>\n",
       "      <td>25243.550000</td>\n",
       "      <td>25564.670000</td>\n",
       "    </tr>\n",
       "  </tbody>\n",
       "</table>\n",
       "</div>"
      ],
      "text/plain": [
       "                 Age  Eduacation      Race         Hisp MaritalStatus  \\\n",
       "count   15992.000000       15992     15992        15992         15992   \n",
       "unique           NaN           5         2            2             2   \n",
       "top              NaN  HighSchool  NotBlack  NotHispanic       Married   \n",
       "freq             NaN        6252     14816        14840         11382   \n",
       "mean       33.225238         NaN       NaN          NaN           NaN   \n",
       "std        11.045216         NaN       NaN          NaN           NaN   \n",
       "min        16.000000         NaN       NaN          NaN           NaN   \n",
       "25%        24.000000         NaN       NaN          NaN           NaN   \n",
       "50%        31.000000         NaN       NaN          NaN           NaN   \n",
       "75%        42.000000         NaN       NaN          NaN           NaN   \n",
       "max        55.000000         NaN       NaN          NaN           NaN   \n",
       "\n",
       "               Nodeg  Earnings_1974  Earnings_1975  Earnings_1978  \n",
       "count   15992.000000   15992.000000   15992.000000   15992.000000  \n",
       "unique           NaN            NaN            NaN            NaN  \n",
       "top              NaN            NaN            NaN            NaN  \n",
       "freq             NaN            NaN            NaN            NaN  \n",
       "mean        0.295835   14016.800304   13650.803376   14846.659673  \n",
       "std         0.456432    9569.795893    9270.403225    9647.391524  \n",
       "min         0.000000       0.000000       0.000000       0.000000  \n",
       "25%         0.000000    4403.452250    4398.823000    5669.298000  \n",
       "50%         0.000000   15123.580000   14557.110000   16421.975000  \n",
       "75%         1.000000   23584.180000   22923.737500   25564.670000  \n",
       "max         1.000000   25862.320000   25243.550000   25564.670000  "
      ]
     },
     "metadata": {},
     "execution_count": 4
    }
   ],
   "metadata": {}
  },
  {
   "cell_type": "code",
   "execution_count": 5,
   "source": [
    "df.tail(20)"
   ],
   "outputs": [
    {
     "output_type": "execute_result",
     "data": {
      "text/html": [
       "<div>\n",
       "<style scoped>\n",
       "    .dataframe tbody tr th:only-of-type {\n",
       "        vertical-align: middle;\n",
       "    }\n",
       "\n",
       "    .dataframe tbody tr th {\n",
       "        vertical-align: top;\n",
       "    }\n",
       "\n",
       "    .dataframe thead th {\n",
       "        text-align: right;\n",
       "    }\n",
       "</style>\n",
       "<table border=\"1\" class=\"dataframe\">\n",
       "  <thead>\n",
       "    <tr style=\"text-align: right;\">\n",
       "      <th></th>\n",
       "      <th>Age</th>\n",
       "      <th>Eduacation</th>\n",
       "      <th>Race</th>\n",
       "      <th>Hisp</th>\n",
       "      <th>MaritalStatus</th>\n",
       "      <th>Nodeg</th>\n",
       "      <th>Earnings_1974</th>\n",
       "      <th>Earnings_1975</th>\n",
       "      <th>Earnings_1978</th>\n",
       "    </tr>\n",
       "  </thead>\n",
       "  <tbody>\n",
       "    <tr>\n",
       "      <th>15972</th>\n",
       "      <td>27</td>\n",
       "      <td>HighSchool</td>\n",
       "      <td>NotBlack</td>\n",
       "      <td>NotHispanic</td>\n",
       "      <td>Married</td>\n",
       "      <td>0</td>\n",
       "      <td>14837.5300</td>\n",
       "      <td>14684.230</td>\n",
       "      <td>2605.2320</td>\n",
       "    </tr>\n",
       "    <tr>\n",
       "      <th>15973</th>\n",
       "      <td>25</td>\n",
       "      <td>LessThanHighSchool</td>\n",
       "      <td>NotBlack</td>\n",
       "      <td>NotHispanic</td>\n",
       "      <td>Married</td>\n",
       "      <td>1</td>\n",
       "      <td>3669.7070</td>\n",
       "      <td>2868.097</td>\n",
       "      <td>345.7880</td>\n",
       "    </tr>\n",
       "    <tr>\n",
       "      <th>15974</th>\n",
       "      <td>17</td>\n",
       "      <td>LessThanHighSchool</td>\n",
       "      <td>black</td>\n",
       "      <td>NotHispanic</td>\n",
       "      <td>NotMarried</td>\n",
       "      <td>1</td>\n",
       "      <td>574.0652</td>\n",
       "      <td>2112.581</td>\n",
       "      <td>3039.6840</td>\n",
       "    </tr>\n",
       "    <tr>\n",
       "      <th>15975</th>\n",
       "      <td>38</td>\n",
       "      <td>LessThanHighSchool</td>\n",
       "      <td>NotBlack</td>\n",
       "      <td>NotHispanic</td>\n",
       "      <td>Married</td>\n",
       "      <td>1</td>\n",
       "      <td>18346.5700</td>\n",
       "      <td>21430.160</td>\n",
       "      <td>0.0000</td>\n",
       "    </tr>\n",
       "    <tr>\n",
       "      <th>15976</th>\n",
       "      <td>32</td>\n",
       "      <td>LessThanHighSchool</td>\n",
       "      <td>black</td>\n",
       "      <td>NotHispanic</td>\n",
       "      <td>Married</td>\n",
       "      <td>1</td>\n",
       "      <td>0.0000</td>\n",
       "      <td>0.000</td>\n",
       "      <td>187.6713</td>\n",
       "    </tr>\n",
       "    <tr>\n",
       "      <th>15977</th>\n",
       "      <td>38</td>\n",
       "      <td>LessThanHighSchool</td>\n",
       "      <td>NotBlack</td>\n",
       "      <td>NotHispanic</td>\n",
       "      <td>Married</td>\n",
       "      <td>1</td>\n",
       "      <td>2141.4790</td>\n",
       "      <td>1383.919</td>\n",
       "      <td>2314.1200</td>\n",
       "    </tr>\n",
       "    <tr>\n",
       "      <th>15978</th>\n",
       "      <td>16</td>\n",
       "      <td>LessThanHighSchool</td>\n",
       "      <td>NotBlack</td>\n",
       "      <td>NotHispanic</td>\n",
       "      <td>NotMarried</td>\n",
       "      <td>1</td>\n",
       "      <td>0.0000</td>\n",
       "      <td>0.000</td>\n",
       "      <td>1495.4590</td>\n",
       "    </tr>\n",
       "    <tr>\n",
       "      <th>15979</th>\n",
       "      <td>36</td>\n",
       "      <td>PostGraduate</td>\n",
       "      <td>NotBlack</td>\n",
       "      <td>NotHispanic</td>\n",
       "      <td>Married</td>\n",
       "      <td>0</td>\n",
       "      <td>25862.3200</td>\n",
       "      <td>0.000</td>\n",
       "      <td>0.0000</td>\n",
       "    </tr>\n",
       "    <tr>\n",
       "      <th>15980</th>\n",
       "      <td>45</td>\n",
       "      <td>Intermediate</td>\n",
       "      <td>NotBlack</td>\n",
       "      <td>hispanic</td>\n",
       "      <td>Married</td>\n",
       "      <td>0</td>\n",
       "      <td>22390.5000</td>\n",
       "      <td>22559.850</td>\n",
       "      <td>25564.6700</td>\n",
       "    </tr>\n",
       "    <tr>\n",
       "      <th>15981</th>\n",
       "      <td>22</td>\n",
       "      <td>Intermediate</td>\n",
       "      <td>NotBlack</td>\n",
       "      <td>hispanic</td>\n",
       "      <td>NotMarried</td>\n",
       "      <td>0</td>\n",
       "      <td>7684.2440</td>\n",
       "      <td>5281.452</td>\n",
       "      <td>6014.3470</td>\n",
       "    </tr>\n",
       "    <tr>\n",
       "      <th>15982</th>\n",
       "      <td>27</td>\n",
       "      <td>Intermediate</td>\n",
       "      <td>NotBlack</td>\n",
       "      <td>NotHispanic</td>\n",
       "      <td>Married</td>\n",
       "      <td>0</td>\n",
       "      <td>25507.6900</td>\n",
       "      <td>25243.550</td>\n",
       "      <td>25564.6700</td>\n",
       "    </tr>\n",
       "    <tr>\n",
       "      <th>15983</th>\n",
       "      <td>55</td>\n",
       "      <td>LessThanHighSchool</td>\n",
       "      <td>NotBlack</td>\n",
       "      <td>NotHispanic</td>\n",
       "      <td>Married</td>\n",
       "      <td>1</td>\n",
       "      <td>25862.3200</td>\n",
       "      <td>25243.550</td>\n",
       "      <td>21463.9800</td>\n",
       "    </tr>\n",
       "    <tr>\n",
       "      <th>15984</th>\n",
       "      <td>48</td>\n",
       "      <td>LessThanHighSchool</td>\n",
       "      <td>NotBlack</td>\n",
       "      <td>NotHispanic</td>\n",
       "      <td>Married</td>\n",
       "      <td>1</td>\n",
       "      <td>25862.3200</td>\n",
       "      <td>25243.550</td>\n",
       "      <td>25564.6700</td>\n",
       "    </tr>\n",
       "    <tr>\n",
       "      <th>15985</th>\n",
       "      <td>27</td>\n",
       "      <td>HighSchool</td>\n",
       "      <td>NotBlack</td>\n",
       "      <td>NotHispanic</td>\n",
       "      <td>Married</td>\n",
       "      <td>0</td>\n",
       "      <td>0.0000</td>\n",
       "      <td>25243.550</td>\n",
       "      <td>4223.3430</td>\n",
       "    </tr>\n",
       "    <tr>\n",
       "      <th>15986</th>\n",
       "      <td>35</td>\n",
       "      <td>HighSchool</td>\n",
       "      <td>NotBlack</td>\n",
       "      <td>NotHispanic</td>\n",
       "      <td>Married</td>\n",
       "      <td>0</td>\n",
       "      <td>0.0000</td>\n",
       "      <td>0.000</td>\n",
       "      <td>0.0000</td>\n",
       "    </tr>\n",
       "    <tr>\n",
       "      <th>15987</th>\n",
       "      <td>22</td>\n",
       "      <td>HighSchool</td>\n",
       "      <td>black</td>\n",
       "      <td>NotHispanic</td>\n",
       "      <td>NotMarried</td>\n",
       "      <td>0</td>\n",
       "      <td>3975.3520</td>\n",
       "      <td>6801.435</td>\n",
       "      <td>2757.4380</td>\n",
       "    </tr>\n",
       "    <tr>\n",
       "      <th>15988</th>\n",
       "      <td>20</td>\n",
       "      <td>HighSchool</td>\n",
       "      <td>black</td>\n",
       "      <td>NotHispanic</td>\n",
       "      <td>Married</td>\n",
       "      <td>0</td>\n",
       "      <td>1445.9390</td>\n",
       "      <td>11832.240</td>\n",
       "      <td>6895.0720</td>\n",
       "    </tr>\n",
       "    <tr>\n",
       "      <th>15989</th>\n",
       "      <td>37</td>\n",
       "      <td>HighSchool</td>\n",
       "      <td>NotBlack</td>\n",
       "      <td>NotHispanic</td>\n",
       "      <td>NotMarried</td>\n",
       "      <td>0</td>\n",
       "      <td>1733.9510</td>\n",
       "      <td>1559.371</td>\n",
       "      <td>4221.8650</td>\n",
       "    </tr>\n",
       "    <tr>\n",
       "      <th>15990</th>\n",
       "      <td>47</td>\n",
       "      <td>LessThanHighSchool</td>\n",
       "      <td>NotBlack</td>\n",
       "      <td>NotHispanic</td>\n",
       "      <td>Married</td>\n",
       "      <td>1</td>\n",
       "      <td>16914.3500</td>\n",
       "      <td>11384.660</td>\n",
       "      <td>13671.9300</td>\n",
       "    </tr>\n",
       "    <tr>\n",
       "      <th>15991</th>\n",
       "      <td>40</td>\n",
       "      <td>LessThanHighSchool</td>\n",
       "      <td>NotBlack</td>\n",
       "      <td>NotHispanic</td>\n",
       "      <td>NotMarried</td>\n",
       "      <td>1</td>\n",
       "      <td>13628.6600</td>\n",
       "      <td>13144.550</td>\n",
       "      <td>7979.7240</td>\n",
       "    </tr>\n",
       "  </tbody>\n",
       "</table>\n",
       "</div>"
      ],
      "text/plain": [
       "       Age          Eduacation      Race         Hisp MaritalStatus  Nodeg  \\\n",
       "15972   27          HighSchool  NotBlack  NotHispanic       Married      0   \n",
       "15973   25  LessThanHighSchool  NotBlack  NotHispanic       Married      1   \n",
       "15974   17  LessThanHighSchool     black  NotHispanic    NotMarried      1   \n",
       "15975   38  LessThanHighSchool  NotBlack  NotHispanic       Married      1   \n",
       "15976   32  LessThanHighSchool     black  NotHispanic       Married      1   \n",
       "15977   38  LessThanHighSchool  NotBlack  NotHispanic       Married      1   \n",
       "15978   16  LessThanHighSchool  NotBlack  NotHispanic    NotMarried      1   \n",
       "15979   36        PostGraduate  NotBlack  NotHispanic       Married      0   \n",
       "15980   45        Intermediate  NotBlack     hispanic       Married      0   \n",
       "15981   22        Intermediate  NotBlack     hispanic    NotMarried      0   \n",
       "15982   27        Intermediate  NotBlack  NotHispanic       Married      0   \n",
       "15983   55  LessThanHighSchool  NotBlack  NotHispanic       Married      1   \n",
       "15984   48  LessThanHighSchool  NotBlack  NotHispanic       Married      1   \n",
       "15985   27          HighSchool  NotBlack  NotHispanic       Married      0   \n",
       "15986   35          HighSchool  NotBlack  NotHispanic       Married      0   \n",
       "15987   22          HighSchool     black  NotHispanic    NotMarried      0   \n",
       "15988   20          HighSchool     black  NotHispanic       Married      0   \n",
       "15989   37          HighSchool  NotBlack  NotHispanic    NotMarried      0   \n",
       "15990   47  LessThanHighSchool  NotBlack  NotHispanic       Married      1   \n",
       "15991   40  LessThanHighSchool  NotBlack  NotHispanic    NotMarried      1   \n",
       "\n",
       "       Earnings_1974  Earnings_1975  Earnings_1978  \n",
       "15972     14837.5300      14684.230      2605.2320  \n",
       "15973      3669.7070       2868.097       345.7880  \n",
       "15974       574.0652       2112.581      3039.6840  \n",
       "15975     18346.5700      21430.160         0.0000  \n",
       "15976         0.0000          0.000       187.6713  \n",
       "15977      2141.4790       1383.919      2314.1200  \n",
       "15978         0.0000          0.000      1495.4590  \n",
       "15979     25862.3200          0.000         0.0000  \n",
       "15980     22390.5000      22559.850     25564.6700  \n",
       "15981      7684.2440       5281.452      6014.3470  \n",
       "15982     25507.6900      25243.550     25564.6700  \n",
       "15983     25862.3200      25243.550     21463.9800  \n",
       "15984     25862.3200      25243.550     25564.6700  \n",
       "15985         0.0000      25243.550      4223.3430  \n",
       "15986         0.0000          0.000         0.0000  \n",
       "15987      3975.3520       6801.435      2757.4380  \n",
       "15988      1445.9390      11832.240      6895.0720  \n",
       "15989      1733.9510       1559.371      4221.8650  \n",
       "15990     16914.3500      11384.660     13671.9300  \n",
       "15991     13628.6600      13144.550      7979.7240  "
      ]
     },
     "metadata": {},
     "execution_count": 5
    }
   ],
   "metadata": {}
  },
  {
   "cell_type": "code",
   "execution_count": 6,
   "source": [
    "df.info()"
   ],
   "outputs": [
    {
     "output_type": "stream",
     "name": "stdout",
     "text": [
      "<class 'pandas.core.frame.DataFrame'>\n",
      "RangeIndex: 15992 entries, 0 to 15991\n",
      "Data columns (total 9 columns):\n",
      " #   Column         Non-Null Count  Dtype  \n",
      "---  ------         --------------  -----  \n",
      " 0   Age            15992 non-null  int64  \n",
      " 1   Eduacation     15992 non-null  object \n",
      " 2   Race           15992 non-null  object \n",
      " 3   Hisp           15992 non-null  object \n",
      " 4   MaritalStatus  15992 non-null  object \n",
      " 5   Nodeg          15992 non-null  int64  \n",
      " 6   Earnings_1974  15992 non-null  float64\n",
      " 7   Earnings_1975  15992 non-null  float64\n",
      " 8   Earnings_1978  15992 non-null  float64\n",
      "dtypes: float64(3), int64(2), object(4)\n",
      "memory usage: 1.1+ MB\n"
     ]
    }
   ],
   "metadata": {}
  },
  {
   "cell_type": "markdown",
   "source": [
    "Age:\n",
    "    Make and plot a Hist and Pmf for age.\n",
    "    What fraction of the people in the data are 51? What fraction are older than 51?\n",
    "    What is the median age? Does the distribution of the sample data seem to mirror the working age population?"
   ],
   "metadata": {}
  },
  {
   "cell_type": "code",
   "execution_count": 7,
   "source": [
    "#Hist\n",
    "hist_age = thinkstats2.Hist(round(df[\"Age\"], 0), label= \"Age\")\n",
    "thinkplot.Hist(hist_age)\n",
    "thinkplot.Config()"
   ],
   "outputs": [
    {
     "output_type": "display_data",
     "data": {
      "image/png": "[encoded data removed]",
      "text/plain": [
       "<Figure size 432x288 with 1 Axes>"
      ]
     },
     "metadata": {
      "needs_background": "light"
     }
    }
   ],
   "metadata": {}
  },
  {
   "cell_type": "code",
   "execution_count": 8,
   "source": [
    "#CDF\n",
    "cdf_age = thinkstats2.Cdf(df[\"Age\"])\n",
    "thinkplot.Cdf(cdf_age)\n",
    "thinkplot.Config()"
   ],
   "outputs": [
    {
     "output_type": "display_data",
     "data": {
      "image/png": "[encoded data removed]",
      "text/plain": [
       "<Figure size 432x288 with 1 Axes>"
      ]
     },
     "metadata": {
      "needs_background": "light"
     }
    }
   ],
   "metadata": {}
  },
  {
   "cell_type": "code",
   "execution_count": 9,
   "source": [
    "# Fraction of data that is 51 years\n",
    "cdf_51 = cdf_age.Prob(51)-cdf_age.Prob(50)\n",
    "\n",
    "# Fraction of data that is over 51 years\n",
    "cdf_over51 = 1 - cdf_age.Prob(51)\n",
    "\n",
    "print(\"Fraction of data that is 51 years of age: \" + str(round(100*cdf_51,ndigits=2)) + \"%.\")\n",
    "print(\"Fraction of data that is over 51 years of age: \" + str(round(100*cdf_over51,ndigits=2)) + \"%.\")"
   ],
   "outputs": [
    {
     "output_type": "stream",
     "name": "stdout",
     "text": [
      "Fraction of data that is 51 years of age: 1.96%.\n",
      "Fraction of data that is over 51 years of age: 7.32%.\n"
     ]
    }
   ],
   "metadata": {}
  },
  {
   "cell_type": "markdown",
   "source": [
    "Demographics:\n",
    "    Consider some of the demographic features: Education, Race, Hisp, MaritalStatus, and Nodeg. This data came from the United States, does it appear to be a representative sample of the US population? Demonstrate this in some way in your code. "
   ],
   "metadata": {}
  },
  {
   "cell_type": "markdown",
   "source": [
    "Facts from https://www.census.gov/quickfacts/fact/table/US/POP010220#POP010220\n",
    "\n",
    "Education and Nodeg (1=HS Dropout): \n",
    "    High School graduate or higher, percent of persons age 25+ years - 88.0%\n",
    "    Bachelor's degree or higher, percent of persons age 25+ years    - 32.1%\n",
    "\n",
    "Race:\n",
    "    Black or African American alone, percent                         - 13.4%\n",
    "\n",
    "Hisp:\n",
    "    Hispanic or Latino, percent                                     - 18.5%\n",
    "\n",
    "Facts from https://www.statista.com/statistics/242030/marital-status-of-the-us-population-by-sex/\n",
    "\n",
    "Marital Status:\n",
    "    Married (Male), in millions                                     - 68.43\n",
    "    Married (Female), in millions                                   - 69.34\n",
    "    Total Married (Both Sexes), in millions                         - 137.77 (52.0%)\n",
    "    Total (Both Sexes), in millions                                 - 264.69"
   ],
   "metadata": {}
  },
  {
   "cell_type": "code",
   "execution_count": 10,
   "source": [
    "# Education and Nodeg\n",
    "df_25up = df[df[\"Age\"] >= 25]\n",
    "hs_grad = df_25up[df_25up[\"Nodeg\"]== 0]\n",
    "bach_grad = df_25up[(df_25up[\"Eduacation\"]==\"graduate\") | (df_25up[\"Eduacation\"]==\"PostGraduate\")]\n",
    "print(\"High school graduate: \" + str(round(100*hs_grad[\"Eduacation\"].count()/df_25up[\"Eduacation\"].count(),1)) + \"%\")\n",
    "print(\"Bachelor's degree graduate: \" + str(round(100*bach_grad[\"Eduacation\"].count()/df_25up[\"Eduacation\"].count(),1)) + \"%\")"
   ],
   "outputs": [
    {
     "output_type": "stream",
     "name": "stdout",
     "text": [
      "High school graduate: 73.0%\n",
      "Bachelor's degree graduate: 17.3%\n"
     ]
    }
   ],
   "metadata": {}
  },
  {
   "cell_type": "markdown",
   "source": [
    "The sample has lower percentage of high school and bachelor's degree graduate than the general population of the US."
   ],
   "metadata": {}
  },
  {
   "cell_type": "code",
   "execution_count": 11,
   "source": [
    "df_25up[\"Eduacation\"].value_counts()/df_25up[\"Eduacation\"].count()"
   ],
   "outputs": [
    {
     "output_type": "execute_result",
     "data": {
      "text/plain": [
       "HighSchool            0.392397\n",
       "LessThanHighSchool    0.269915\n",
       "Intermediate          0.164377\n",
       "graduate              0.098457\n",
       "PostGraduate          0.074855\n",
       "Name: Eduacation, dtype: float64"
      ]
     },
     "metadata": {},
     "execution_count": 11
    }
   ],
   "metadata": {}
  },
  {
   "cell_type": "code",
   "execution_count": 12,
   "source": [
    "# Race\n",
    "df_black = df[df[\"Race\"] == \"black\"]\n",
    "df_nblack = df[df[\"Race\"] == \"NotBlack\"]\n",
    "print(\"Black: \" + str(round(100*df_black[\"Race\"].count()/df[\"Race\"].count(),1)) + \"%\")\n",
    "print(\"Not black: \" + str(round(100*df_nblack[\"Race\"].count()/df[\"Race\"].count(),1)) + \"%\")"
   ],
   "outputs": [
    {
     "output_type": "stream",
     "name": "stdout",
     "text": [
      "Black: 7.4%\n",
      "Not black: 92.6%\n"
     ]
    }
   ],
   "metadata": {}
  },
  {
   "cell_type": "markdown",
   "source": [
    "Sample has percentage of black people that is lower than the general population."
   ],
   "metadata": {}
  },
  {
   "cell_type": "code",
   "execution_count": 13,
   "source": [
    "# Hisp\n",
    "df_Hisp = df[df[\"Hisp\"] == \"hispanic\"]\n",
    "df_nHisp = df[df[\"Hisp\"] == \"NotHispanic\"]\n",
    "print(\"Hispanic: \" + str(round(100*df_Hisp[\"Hisp\"].count()/df[\"Hisp\"].count(),1)) + \"%\")\n",
    "print(\"Not hispanic: \" + str(round(100*df_nHisp[\"Hisp\"].count()/df[\"Hisp\"].count(),1)) + \"%\")"
   ],
   "outputs": [
    {
     "output_type": "stream",
     "name": "stdout",
     "text": [
      "Hispanic: 7.2%\n",
      "Not hispanic: 92.8%\n"
     ]
    }
   ],
   "metadata": {}
  },
  {
   "cell_type": "markdown",
   "source": [
    "Sample has percentage of hispanic people that is lower than the general population."
   ],
   "metadata": {}
  },
  {
   "cell_type": "code",
   "execution_count": 14,
   "source": [
    "# Marital Status\n",
    "df_Mar = df[df[\"MaritalStatus\"] == \"Married\"]\n",
    "df_nMar = df[df[\"MaritalStatus\"] == \"NotMarried\"]\n",
    "print(\"Married: \" + str(round(100*df_Mar[\"MaritalStatus\"].count()/df[\"MaritalStatus\"].count(),1)) + \"%\")\n",
    "print(\"Not Married: \" + str(round(100*df_nMar[\"MaritalStatus\"].count()/df[\"MaritalStatus\"].count(),1)) + \"%\")"
   ],
   "outputs": [
    {
     "output_type": "stream",
     "name": "stdout",
     "text": [
      "Married: 71.2%\n",
      "Not Married: 28.8%\n"
     ]
    }
   ],
   "metadata": {}
  },
  {
   "cell_type": "markdown",
   "source": [
    "Sample has percentage of married people that is greater than the general population."
   ],
   "metadata": {}
  },
  {
   "cell_type": "markdown",
   "source": [
    "Earnings:\n",
    "o\tMake and plot a graph or graph of your choosing of the 3 earnings values, in order to answer the below question. Identify how the graph gave you your answer.\n",
    "    ♣\tWhat is one conclusion could you draw from visualizing of the earnings in the different year? Please express it in plain language/non-statistics terms/as though you were explaining to one of your friends what happened to earnings between 1974 and 1978?"
   ],
   "metadata": {}
  },
  {
   "cell_type": "code",
   "execution_count": 39,
   "source": [
    "hist_74 = thinkstats2.Hist(df[\"Earnings_1974\"])\n",
    "hist_75 = thinkstats2.Hist(df[\"Earnings_1975\"])\n",
    "hist_78 = thinkstats2.Hist(df[\"Earnings_1978\"])\n",
    "thinkplot.Hist(hist_74)\n",
    "thinkplot.Hist(hist_75)\n",
    "thinkplot.Hist(hist_78)"
   ],
   "outputs": [
    {
     "output_type": "display_data",
     "data": {
      "image/png": "[encoded data removed]",
      "text/plain": [
       "<Figure size 432x288 with 1 Axes>"
      ]
     },
     "metadata": {
      "needs_background": "light"
     }
    }
   ],
   "metadata": {}
  },
  {
   "cell_type": "code",
   "execution_count": 37,
   "source": [
    "df_earn = df[\"Earnings_1974\"].append(df[\"Earnings_1975\"])\n",
    "df_earn = df_earn.append(df[\"Earnings_1978\"])\n",
    "sns.displot(df_earn)\n",
    "df_earn.describe(include='all')"
   ],
   "outputs": [
    {
     "output_type": "execute_result",
     "data": {
      "text/plain": [
       "count    47976.000000\n",
       "mean     14171.421118\n",
       "std       9510.225465\n",
       "min          0.000000\n",
       "25%       4747.487500\n",
       "50%      15343.150000\n",
       "75%      24128.227500\n",
       "max      25862.320000\n",
       "dtype: float64"
      ]
     },
     "metadata": {},
     "execution_count": 37
    },
    {
     "output_type": "display_data",
     "data": {
      "image/png": "[encoded data removed]",
      "text/plain": [
       "<Figure size 360x360 with 1 Axes>"
      ]
     },
     "metadata": {
      "needs_background": "light"
     }
    }
   ],
   "metadata": {}
  },
  {
   "cell_type": "code",
   "execution_count": 40,
   "source": [
    "hist_all = thinkstats2.Hist(df_earn)\n",
    "thinkplot.Hist(hist_all)"
   ],
   "outputs": [
    {
     "output_type": "display_data",
     "data": {
      "image/png": "[encoded data removed]",
      "text/plain": [
       "<Figure size 432x288 with 1 Axes>"
      ]
     },
     "metadata": {
      "needs_background": "light"
     }
    }
   ],
   "metadata": {}
  },
  {
   "cell_type": "code",
   "execution_count": 31,
   "source": [
    "df[\"Earnings_1978\"].describe(include='all')"
   ],
   "outputs": [
    {
     "output_type": "execute_result",
     "data": {
      "text/plain": [
       "count    15992.000000\n",
       "mean     14846.659673\n",
       "std       9647.391524\n",
       "min          0.000000\n",
       "25%       5669.298000\n",
       "50%      16421.975000\n",
       "75%      25564.670000\n",
       "max      25564.670000\n",
       "Name: Earnings_1978, dtype: float64"
      ]
     },
     "metadata": {},
     "execution_count": 31
    }
   ],
   "metadata": {}
  },
  {
   "cell_type": "code",
   "execution_count": 32,
   "source": [
    "df[\"Earnings_1975\"].describe(include='all')"
   ],
   "outputs": [
    {
     "output_type": "execute_result",
     "data": {
      "text/plain": [
       "count    15992.000000\n",
       "mean     13650.803376\n",
       "std       9270.403225\n",
       "min          0.000000\n",
       "25%       4398.823000\n",
       "50%      14557.110000\n",
       "75%      22923.737500\n",
       "max      25243.550000\n",
       "Name: Earnings_1975, dtype: float64"
      ]
     },
     "metadata": {},
     "execution_count": 32
    }
   ],
   "metadata": {}
  },
  {
   "cell_type": "code",
   "execution_count": 33,
   "source": [
    "df[\"Earnings_1974\"].describe(include='all')"
   ],
   "outputs": [
    {
     "output_type": "execute_result",
     "data": {
      "text/plain": [
       "count    15992.000000\n",
       "mean     14016.800304\n",
       "std       9569.795893\n",
       "min          0.000000\n",
       "25%       4403.452250\n",
       "50%      15123.580000\n",
       "75%      23584.180000\n",
       "max      25862.320000\n",
       "Name: Earnings_1974, dtype: float64"
      ]
     },
     "metadata": {},
     "execution_count": 33
    }
   ],
   "metadata": {}
  },
  {
   "cell_type": "code",
   "execution_count": null,
   "source": [
    "x = df[\"Earnings_1974\"]\n",
    "y = df[\"Earnings_1975\"]\n",
    "fig, ax = plt.subplots()\n",
    "for a in [x, y]:\n",
    "    sns.distplot(a, bins=range(1, 110, 10), ax=ax, kde = True)\n",
    "ax.set_xlim([0, 100])"
   ],
   "outputs": [
    {
     "output_type": "stream",
     "name": "stderr",
     "text": [
      "/opt/anaconda3/lib/python3.8/site-packages/seaborn/distributions.py:2557: FutureWarning: `distplot` is a deprecated function and will be removed in a future version. Please adapt your code to use either `displot` (a figure-level function with similar flexibility) or `histplot` (an axes-level function for histograms).\n",
      "  warnings.warn(msg, FutureWarning)\n",
      "/opt/anaconda3/lib/python3.8/site-packages/seaborn/distributions.py:2557: FutureWarning: `distplot` is a deprecated function and will be removed in a future version. Please adapt your code to use either `displot` (a figure-level function with similar flexibility) or `histplot` (an axes-level function for histograms).\n",
      "  warnings.warn(msg, FutureWarning)\n"
     ]
    },
    {
     "output_type": "execute_result",
     "data": {
      "text/plain": [
       "(0.0, 100.0)"
      ]
     },
     "metadata": {},
     "execution_count": 27
    },
    {
     "output_type": "display_data",
     "data": {
      "image/png": "[encoded data removed]",
      "text/plain": [
       "<Figure size 432x288 with 1 Axes>"
      ]
     },
     "metadata": {
      "needs_background": "light"
     }
    }
   ],
   "metadata": {}
  },
  {
   "cell_type": "markdown",
   "source": [
    "Earnings:\n",
    "o\tWhich has the greatest effect size on 1978 earnings: Race, Hispanic, MaritalStatus, or Nodeg? What could you investigate further in an attempt to explain this?"
   ],
   "metadata": {}
  },
  {
   "cell_type": "code",
   "execution_count": 41,
   "source": [
    "def EffectSize(group1, group2):\n",
    "    diff = group1.mean() - group2.mean()\n",
    "    var1 = group1.var()\n",
    "    var2 = group2.var()\n",
    "    n1, n2 = len(group1), len(group2)\n",
    "    pooled_var = (n1 * var1 + n2 * var2) / (n1 + n2)\n",
    "    d = diff / np.sqrt(pooled_var)\n",
    "    return d"
   ],
   "outputs": [],
   "metadata": {}
  },
  {
   "cell_type": "code",
   "execution_count": 43,
   "source": [
    "# Race\n",
    "EffectSize(df_black[\"Earnings_1978\"], df_nblack[\"Earnings_1978\"])"
   ],
   "outputs": [
    {
     "output_type": "execute_result",
     "data": {
      "text/plain": [
       "-0.31883255859070525"
      ]
     },
     "metadata": {},
     "execution_count": 43
    }
   ],
   "metadata": {}
  },
  {
   "cell_type": "code",
   "execution_count": 44,
   "source": [
    "# Hispanic\n",
    "EffectSize(df_Hisp[\"Earnings_1978\"], df_nHisp[\"Earnings_1978\"])"
   ],
   "outputs": [
    {
     "output_type": "execute_result",
     "data": {
      "text/plain": [
       "-0.16210284395555566"
      ]
     },
     "metadata": {},
     "execution_count": 44
    }
   ],
   "metadata": {}
  },
  {
   "cell_type": "code",
   "execution_count": 45,
   "source": [
    "# Marital Status\n",
    "EffectSize(df_Mar[\"Earnings_1978\"], df_nMar[\"Earnings_1978\"])"
   ],
   "outputs": [
    {
     "output_type": "execute_result",
     "data": {
      "text/plain": [
       "0.5737396692403472"
      ]
     },
     "metadata": {},
     "execution_count": 45
    }
   ],
   "metadata": {}
  },
  {
   "cell_type": "code",
   "execution_count": 46,
   "source": [
    "# No deg\n",
    "df_nodeg = df[df[\"Nodeg\"] == 1]\n",
    "df_deg = df[df[\"Nodeg\"] == 0]\n",
    "EffectSize(df_nodeg[\"Earnings_1978\"], df_deg[\"Earnings_1978\"])"
   ],
   "outputs": [
    {
     "output_type": "execute_result",
     "data": {
      "text/plain": [
       "-0.3367928897615812"
      ]
     },
     "metadata": {},
     "execution_count": 46
    }
   ],
   "metadata": {}
  },
  {
   "cell_type": "markdown",
   "source": [
    "Earnings:\n",
    "o\tPlot a histogram and PMF, and compute useful descriptive statistics (think: average...) for the 1978 earnings value. Use the \"Cohorts\" code from the quiz to break the data into cohorts, plotting each group (either on one chart, or separately, whichever makes the most sense for examining the data - state specifically why you chose 1 vs many charts."
   ],
   "metadata": {}
  },
  {
   "cell_type": "code",
   "execution_count": null,
   "source": [],
   "outputs": [],
   "metadata": {}
  },
  {
   "cell_type": "markdown",
   "source": [
    "Earnings:\n",
    "What is the difference in median income between the groups? Theorize a reason for the difference between the groups that could be explained with more data. Briefly describe the data you'd need. This does not need to be something you have data for, or know how to solve right now - just one well founded hypothesis on what might explain the difference."
   ],
   "metadata": {}
  },
  {
   "cell_type": "code",
   "execution_count": null,
   "source": [],
   "outputs": [],
   "metadata": {}
  },
  {
   "cell_type": "markdown",
   "source": [
    "Earnings:\n",
    "Are there outliers in the 1978 earnings data? Demonstrate this in some way with your code. What can you infer from the presence of outliers that may impact analysis of this data"
   ],
   "metadata": {}
  },
  {
   "cell_type": "code",
   "execution_count": 17,
   "source": [
    "sns.boxplot(df[\"Earnings_1978\"])"
   ],
   "outputs": [
    {
     "output_type": "stream",
     "name": "stderr",
     "text": [
      "/opt/anaconda3/lib/python3.8/site-packages/seaborn/_decorators.py:36: FutureWarning: Pass the following variable as a keyword arg: x. From version 0.12, the only valid positional argument will be `data`, and passing other arguments without an explicit keyword will result in an error or misinterpretation.\n",
      "  warnings.warn(\n"
     ]
    },
    {
     "output_type": "execute_result",
     "data": {
      "text/plain": [
       "<AxesSubplot:xlabel='Earnings_1978'>"
      ]
     },
     "metadata": {},
     "execution_count": 17
    },
    {
     "output_type": "display_data",
     "data": {
      "image/png": "[encoded data removed]",
      "text/plain": [
       "<Figure size 432x288 with 1 Axes>"
      ]
     },
     "metadata": {
      "needs_background": "light"
     }
    }
   ],
   "metadata": {}
  },
  {
   "cell_type": "code",
   "execution_count": 27,
   "source": [
    "plt.scatter(df.index,df[ \"Earnings_1978\"])\n",
    "plt.show()"
   ],
   "outputs": [
    {
     "output_type": "display_data",
     "data": {
      "image/png": "[encoded data removed]",
      "text/plain": [
       "<Figure size 432x288 with 1 Axes>"
      ]
     },
     "metadata": {
      "needs_background": "light"
     }
    }
   ],
   "metadata": {}
  },
  {
   "cell_type": "code",
   "execution_count": 28,
   "source": [
    "plt.boxplot(df[ \"Earnings_1978\"])"
   ],
   "outputs": [
    {
     "output_type": "execute_result",
     "data": {
      "text/plain": [
       "{'whiskers': [<matplotlib.lines.Line2D at 0x11f9bf400>,\n",
       "  <matplotlib.lines.Line2D at 0x11fcfa430>],\n",
       " 'caps': [<matplotlib.lines.Line2D at 0x11f9b7ee0>,\n",
       "  <matplotlib.lines.Line2D at 0x11fed2e50>],\n",
       " 'boxes': [<matplotlib.lines.Line2D at 0x11f9bf820>],\n",
       " 'medians': [<matplotlib.lines.Line2D at 0x11f7b1460>],\n",
       " 'fliers': [<matplotlib.lines.Line2D at 0x11f8e76a0>],\n",
       " 'means': []}"
      ]
     },
     "metadata": {},
     "execution_count": 28
    },
    {
     "output_type": "display_data",
     "data": {
      "image/png": "[encoded data removed]",
      "text/plain": [
       "<Figure size 432x288 with 1 Axes>"
      ]
     },
     "metadata": {
      "needs_background": "light"
     }
    }
   ],
   "metadata": {}
  }
 ],
 "metadata": {
  "orig_nbformat": 4,
  "language_info": {
   "name": "python",
   "version": "3.8.8",
   "mimetype": "text/x-python",
   "codemirror_mode": {
    "name": "ipython",
    "version": 3
   },
   "pygments_lexer": "ipython3",
   "nbconvert_exporter": "python",
   "file_extension": ".py"
  },
  "kernelspec": {
   "name": "python3",
   "display_name": "Python 3.8.8 64-bit ('base': conda)"
  },
  "interpreter": {
   "hash": "dca0ade3e726a953b501b15e8e990130d2b7799f14cfd9f4271676035ebe5511"
  }
 },
 "nbformat": 4,
 "nbformat_minor": 2
}