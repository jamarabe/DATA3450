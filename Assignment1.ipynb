{
 "cells": [
  {
   "cell_type": "markdown",
   "source": [
    "Preliminaries\n"
   ],
   "metadata": {}
  },
  {
   "cell_type": "code",
   "execution_count": 2,
   "source": [
    "#Import Stuff\n",
    "import pandas as pd\n",
    "import numpy as np\n",
    "import matplotlib.pyplot as plt\n",
    "import seaborn as sns\n",
    "import scipy.stats as ss\n"
   ],
   "outputs": [],
   "metadata": {}
  },
  {
   "cell_type": "code",
   "execution_count": 3,
   "source": [
    "#Import more stuff\n",
    "import thinkplot\n",
    "import thinkstats2"
   ],
   "outputs": [],
   "metadata": {}
  },
  {
   "cell_type": "code",
   "execution_count": 4,
   "source": [
    "#Loading data\n",
    "df = pd.read_csv(\"LabourTrainingEvaluationData.csv\")\n",
    "df.head()\n",
    "df.tail()\n",
    "df.describe(include=\"all\")"
   ],
   "outputs": [
    {
     "output_type": "execute_result",
     "data": {
      "text/html": [
       "<div>\n",
       "<style scoped>\n",
       "    .dataframe tbody tr th:only-of-type {\n",
       "        vertical-align: middle;\n",
       "    }\n",
       "\n",
       "    .dataframe tbody tr th {\n",
       "        vertical-align: top;\n",
       "    }\n",
       "\n",
       "    .dataframe thead th {\n",
       "        text-align: right;\n",
       "    }\n",
       "</style>\n",
       "<table border=\"1\" class=\"dataframe\">\n",
       "  <thead>\n",
       "    <tr style=\"text-align: right;\">\n",
       "      <th></th>\n",
       "      <th>Age</th>\n",
       "      <th>Eduacation</th>\n",
       "      <th>Race</th>\n",
       "      <th>Hisp</th>\n",
       "      <th>MaritalStatus</th>\n",
       "      <th>Nodeg</th>\n",
       "      <th>Earnings_1974</th>\n",
       "      <th>Earnings_1975</th>\n",
       "      <th>Earnings_1978</th>\n",
       "    </tr>\n",
       "  </thead>\n",
       "  <tbody>\n",
       "    <tr>\n",
       "      <th>count</th>\n",
       "      <td>15992.000000</td>\n",
       "      <td>15992</td>\n",
       "      <td>15992</td>\n",
       "      <td>15992</td>\n",
       "      <td>15992</td>\n",
       "      <td>15992.000000</td>\n",
       "      <td>15992.000000</td>\n",
       "      <td>15992.000000</td>\n",
       "      <td>15992.000000</td>\n",
       "    </tr>\n",
       "    <tr>\n",
       "      <th>unique</th>\n",
       "      <td>NaN</td>\n",
       "      <td>5</td>\n",
       "      <td>2</td>\n",
       "      <td>2</td>\n",
       "      <td>2</td>\n",
       "      <td>NaN</td>\n",
       "      <td>NaN</td>\n",
       "      <td>NaN</td>\n",
       "      <td>NaN</td>\n",
       "    </tr>\n",
       "    <tr>\n",
       "      <th>top</th>\n",
       "      <td>NaN</td>\n",
       "      <td>HighSchool</td>\n",
       "      <td>NotBlack</td>\n",
       "      <td>NotHispanic</td>\n",
       "      <td>Married</td>\n",
       "      <td>NaN</td>\n",
       "      <td>NaN</td>\n",
       "      <td>NaN</td>\n",
       "      <td>NaN</td>\n",
       "    </tr>\n",
       "    <tr>\n",
       "      <th>freq</th>\n",
       "      <td>NaN</td>\n",
       "      <td>6252</td>\n",
       "      <td>14816</td>\n",
       "      <td>14840</td>\n",
       "      <td>11382</td>\n",
       "      <td>NaN</td>\n",
       "      <td>NaN</td>\n",
       "      <td>NaN</td>\n",
       "      <td>NaN</td>\n",
       "    </tr>\n",
       "    <tr>\n",
       "      <th>mean</th>\n",
       "      <td>33.225238</td>\n",
       "      <td>NaN</td>\n",
       "      <td>NaN</td>\n",
       "      <td>NaN</td>\n",
       "      <td>NaN</td>\n",
       "      <td>0.295835</td>\n",
       "      <td>14016.800304</td>\n",
       "      <td>13650.803376</td>\n",
       "      <td>14846.659673</td>\n",
       "    </tr>\n",
       "    <tr>\n",
       "      <th>std</th>\n",
       "      <td>11.045216</td>\n",
       "      <td>NaN</td>\n",
       "      <td>NaN</td>\n",
       "      <td>NaN</td>\n",
       "      <td>NaN</td>\n",
       "      <td>0.456432</td>\n",
       "      <td>9569.795893</td>\n",
       "      <td>9270.403225</td>\n",
       "      <td>9647.391524</td>\n",
       "    </tr>\n",
       "    <tr>\n",
       "      <th>min</th>\n",
       "      <td>16.000000</td>\n",
       "      <td>NaN</td>\n",
       "      <td>NaN</td>\n",
       "      <td>NaN</td>\n",
       "      <td>NaN</td>\n",
       "      <td>0.000000</td>\n",
       "      <td>0.000000</td>\n",
       "      <td>0.000000</td>\n",
       "      <td>0.000000</td>\n",
       "    </tr>\n",
       "    <tr>\n",
       "      <th>25%</th>\n",
       "      <td>24.000000</td>\n",
       "      <td>NaN</td>\n",
       "      <td>NaN</td>\n",
       "      <td>NaN</td>\n",
       "      <td>NaN</td>\n",
       "      <td>0.000000</td>\n",
       "      <td>4403.452250</td>\n",
       "      <td>4398.823000</td>\n",
       "      <td>5669.298000</td>\n",
       "    </tr>\n",
       "    <tr>\n",
       "      <th>50%</th>\n",
       "      <td>31.000000</td>\n",
       "      <td>NaN</td>\n",
       "      <td>NaN</td>\n",
       "      <td>NaN</td>\n",
       "      <td>NaN</td>\n",
       "      <td>0.000000</td>\n",
       "      <td>15123.580000</td>\n",
       "      <td>14557.110000</td>\n",
       "      <td>16421.975000</td>\n",
       "    </tr>\n",
       "    <tr>\n",
       "      <th>75%</th>\n",
       "      <td>42.000000</td>\n",
       "      <td>NaN</td>\n",
       "      <td>NaN</td>\n",
       "      <td>NaN</td>\n",
       "      <td>NaN</td>\n",
       "      <td>1.000000</td>\n",
       "      <td>23584.180000</td>\n",
       "      <td>22923.737500</td>\n",
       "      <td>25564.670000</td>\n",
       "    </tr>\n",
       "    <tr>\n",
       "      <th>max</th>\n",
       "      <td>55.000000</td>\n",
       "      <td>NaN</td>\n",
       "      <td>NaN</td>\n",
       "      <td>NaN</td>\n",
       "      <td>NaN</td>\n",
       "      <td>1.000000</td>\n",
       "      <td>25862.320000</td>\n",
       "      <td>25243.550000</td>\n",
       "      <td>25564.670000</td>\n",
       "    </tr>\n",
       "  </tbody>\n",
       "</table>\n",
       "</div>"
      ],
      "text/plain": [
       "                 Age  Eduacation      Race         Hisp MaritalStatus  \\\n",
       "count   15992.000000       15992     15992        15992         15992   \n",
       "unique           NaN           5         2            2             2   \n",
       "top              NaN  HighSchool  NotBlack  NotHispanic       Married   \n",
       "freq             NaN        6252     14816        14840         11382   \n",
       "mean       33.225238         NaN       NaN          NaN           NaN   \n",
       "std        11.045216         NaN       NaN          NaN           NaN   \n",
       "min        16.000000         NaN       NaN          NaN           NaN   \n",
       "25%        24.000000         NaN       NaN          NaN           NaN   \n",
       "50%        31.000000         NaN       NaN          NaN           NaN   \n",
       "75%        42.000000         NaN       NaN          NaN           NaN   \n",
       "max        55.000000         NaN       NaN          NaN           NaN   \n",
       "\n",
       "               Nodeg  Earnings_1974  Earnings_1975  Earnings_1978  \n",
       "count   15992.000000   15992.000000   15992.000000   15992.000000  \n",
       "unique           NaN            NaN            NaN            NaN  \n",
       "top              NaN            NaN            NaN            NaN  \n",
       "freq             NaN            NaN            NaN            NaN  \n",
       "mean        0.295835   14016.800304   13650.803376   14846.659673  \n",
       "std         0.456432    9569.795893    9270.403225    9647.391524  \n",
       "min         0.000000       0.000000       0.000000       0.000000  \n",
       "25%         0.000000    4403.452250    4398.823000    5669.298000  \n",
       "50%         0.000000   15123.580000   14557.110000   16421.975000  \n",
       "75%         1.000000   23584.180000   22923.737500   25564.670000  \n",
       "max         1.000000   25862.320000   25243.550000   25564.670000  "
      ]
     },
     "metadata": {},
     "execution_count": 4
    }
   ],
   "metadata": {}
  },
  {
   "cell_type": "code",
   "execution_count": null,
   "source": [
    "df.tail(20)"
   ],
   "outputs": [],
   "metadata": {}
  },
  {
   "cell_type": "code",
   "execution_count": null,
   "source": [
    "df.info()"
   ],
   "outputs": [],
   "metadata": {}
  },
  {
   "cell_type": "markdown",
   "source": [
    "Age:\n",
    "    Make and plot a Hist and Pmf for age.\n",
    "    What fraction of the people in the data are 51? What fraction are older than 51?\n",
    "    What is the median age? Does the distribution of the sample data seem to mirror the working age population?"
   ],
   "metadata": {}
  },
  {
   "cell_type": "code",
   "execution_count": 7,
   "source": [
    "#Hist\n",
    "hist_age = thinkstats2.Hist(round(df[\"Age\"], 0), label= \"Age\")\n",
    "thinkplot.Hist(hist_age)\n",
    "thinkplot.Config()"
   ],
   "outputs": [
    {
     "output_type": "display_data",
     "data": {
      "image/png": "[encoded data removed]",
      "text/plain": [
       "<Figure size 432x288 with 1 Axes>"
      ]
     },
     "metadata": {
      "needs_background": "light"
     }
    }
   ],
   "metadata": {}
  },
  {
   "cell_type": "code",
   "execution_count": 36,
   "source": [
    "#PMF\n",
    "pmf_age = thinkstats2.Pmf(df[\"Age\"])\n",
    "thinkplot.Pmf(pmf_age)\n",
    "thinkplot.Config()"
   ],
   "outputs": [
    {
     "output_type": "display_data",
     "data": {
      "image/png": "[encoded data removed]",
      "text/plain": [
       "<Figure size 432x288 with 1 Axes>"
      ]
     },
     "metadata": {
      "needs_background": "light"
     }
    }
   ],
   "metadata": {}
  },
  {
   "cell_type": "code",
   "execution_count": 8,
   "source": [
    "#CDF\n",
    "cdf_age = thinkstats2.Cdf(df[\"Age\"])\n",
    "thinkplot.Cdf(cdf_age)\n",
    "thinkplot.Config()"
   ],
   "outputs": [
    {
     "output_type": "display_data",
     "data": {
      "image/png": "[encoded data removed]",
      "text/plain": [
       "<Figure size 432x288 with 1 Axes>"
      ]
     },
     "metadata": {
      "needs_background": "light"
     }
    }
   ],
   "metadata": {}
  },
  {
   "cell_type": "code",
   "execution_count": 9,
   "source": [
    "# Fraction of data that is 51 years\n",
    "cdf_51 = cdf_age.Prob(51)-cdf_age.Prob(50)\n",
    "\n",
    "# Fraction of data that is over 51 years\n",
    "cdf_over51 = 1 - cdf_age.Prob(51)\n",
    "\n",
    "print(\"Fraction of data that is 51 years of age: \" + str(round(100*cdf_51,ndigits=2)) + \"%.\")\n",
    "print(\"Fraction of data that is over 51 years of age: \" + str(round(100*cdf_over51,ndigits=2)) + \"%.\")"
   ],
   "outputs": [
    {
     "output_type": "stream",
     "name": "stdout",
     "text": [
      "Fraction of data that is 51 years of age: 1.96%.\n",
      "Fraction of data that is over 51 years of age: 7.32%.\n"
     ]
    }
   ],
   "metadata": {}
  },
  {
   "cell_type": "code",
   "execution_count": 146,
   "source": [
    "# Median age\n",
    "median_age = cdf_age.Value(.50)\n",
    "median_age # the sample has slightly lower median age than the current median age of the working popultaion in US"
   ],
   "outputs": [
    {
     "output_type": "execute_result",
     "data": {
      "text/plain": [
       "31"
      ]
     },
     "metadata": {},
     "execution_count": 146
    }
   ],
   "metadata": {}
  },
  {
   "cell_type": "markdown",
   "source": [
    "Demographics:\n",
    "    Consider some of the demographic features: Education, Race, Hisp, MaritalStatus, and Nodeg. This data came from the United States, does it appear to be a representative sample of the US population? Demonstrate this in some way in your code. "
   ],
   "metadata": {}
  },
  {
   "cell_type": "markdown",
   "source": [
    "Facts from https://www.census.gov/quickfacts/fact/table/US/POP010220#POP010220\n",
    "\n",
    "Education and Nodeg (1=HS Dropout): \n",
    "    High School graduate or higher, percent of persons age 25+ years - 88.0%\n",
    "    Bachelor's degree or higher, percent of persons age 25+ years    - 32.1%\n",
    "\n",
    "Race:\n",
    "    Black or African American alone, percent                         - 13.4%\n",
    "\n",
    "Hisp:\n",
    "    Hispanic or Latino, percent                                     - 18.5%\n",
    "\n",
    "Facts from https://www.statista.com/statistics/242030/marital-status-of-the-us-population-by-sex/\n",
    "\n",
    "Marital Status:\n",
    "    Married (Male), in millions                                     - 68.43\n",
    "    Married (Female), in millions                                   - 69.34\n",
    "    Total Married (Both Sexes), in millions                         - 137.77 (52.0%)\n",
    "    Total (Both Sexes), in millions                                 - 264.69"
   ],
   "metadata": {}
  },
  {
   "cell_type": "code",
   "execution_count": 10,
   "source": [
    "# Education and Nodeg\n",
    "df_25up = df[df[\"Age\"] >= 25]\n",
    "hs_grad = df_25up[df_25up[\"Nodeg\"]== 0]\n",
    "bach_grad = df_25up[(df_25up[\"Eduacation\"]==\"graduate\") | (df_25up[\"Eduacation\"]==\"PostGraduate\")]\n",
    "print(\"High school graduate: \" + str(round(100*hs_grad[\"Eduacation\"].count()/df_25up[\"Eduacation\"].count(),1)) + \"%\")\n",
    "print(\"Bachelor's degree graduate: \" + str(round(100*bach_grad[\"Eduacation\"].count()/df_25up[\"Eduacation\"].count(),1)) + \"%\")"
   ],
   "outputs": [
    {
     "output_type": "stream",
     "name": "stdout",
     "text": [
      "High school graduate: 73.0%\n",
      "Bachelor's degree graduate: 17.3%\n"
     ]
    }
   ],
   "metadata": {}
  },
  {
   "cell_type": "markdown",
   "source": [
    "The sample has lower percentage of high school and bachelor's degree graduate than the general population of the US."
   ],
   "metadata": {}
  },
  {
   "cell_type": "code",
   "execution_count": 11,
   "source": [
    "df_25up[\"Eduacation\"].value_counts()/df_25up[\"Eduacation\"].count()"
   ],
   "outputs": [
    {
     "output_type": "execute_result",
     "data": {
      "text/plain": [
       "HighSchool            0.392397\n",
       "LessThanHighSchool    0.269915\n",
       "Intermediate          0.164377\n",
       "graduate              0.098457\n",
       "PostGraduate          0.074855\n",
       "Name: Eduacation, dtype: float64"
      ]
     },
     "metadata": {},
     "execution_count": 11
    }
   ],
   "metadata": {}
  },
  {
   "cell_type": "code",
   "execution_count": 12,
   "source": [
    "# Race\n",
    "df_black = df[df[\"Race\"] == \"black\"]\n",
    "df_nblack = df[df[\"Race\"] == \"NotBlack\"]\n",
    "print(\"Black: \" + str(round(100*df_black[\"Race\"].count()/df[\"Race\"].count(),1)) + \"%\")\n",
    "print(\"Not black: \" + str(round(100*df_nblack[\"Race\"].count()/df[\"Race\"].count(),1)) + \"%\")"
   ],
   "outputs": [
    {
     "output_type": "stream",
     "name": "stdout",
     "text": [
      "Black: 7.4%\n",
      "Not black: 92.6%\n"
     ]
    }
   ],
   "metadata": {}
  },
  {
   "cell_type": "markdown",
   "source": [
    "Sample has percentage of black people that is lower than the general population."
   ],
   "metadata": {}
  },
  {
   "cell_type": "code",
   "execution_count": 13,
   "source": [
    "# Hisp\n",
    "df_Hisp = df[df[\"Hisp\"] == \"hispanic\"]\n",
    "df_nHisp = df[df[\"Hisp\"] == \"NotHispanic\"]\n",
    "print(\"Hispanic: \" + str(round(100*df_Hisp[\"Hisp\"].count()/df[\"Hisp\"].count(),1)) + \"%\")\n",
    "print(\"Not hispanic: \" + str(round(100*df_nHisp[\"Hisp\"].count()/df[\"Hisp\"].count(),1)) + \"%\")"
   ],
   "outputs": [
    {
     "output_type": "stream",
     "name": "stdout",
     "text": [
      "Hispanic: 7.2%\n",
      "Not hispanic: 92.8%\n"
     ]
    }
   ],
   "metadata": {}
  },
  {
   "cell_type": "markdown",
   "source": [
    "Sample has percentage of hispanic people that is lower than the general population."
   ],
   "metadata": {}
  },
  {
   "cell_type": "code",
   "execution_count": 14,
   "source": [
    "# Marital Status\n",
    "df_Mar = df[df[\"MaritalStatus\"] == \"Married\"]\n",
    "df_nMar = df[df[\"MaritalStatus\"] == \"NotMarried\"]\n",
    "print(\"Married: \" + str(round(100*df_Mar[\"MaritalStatus\"].count()/df[\"MaritalStatus\"].count(),1)) + \"%\")\n",
    "print(\"Not Married: \" + str(round(100*df_nMar[\"MaritalStatus\"].count()/df[\"MaritalStatus\"].count(),1)) + \"%\")"
   ],
   "outputs": [
    {
     "output_type": "stream",
     "name": "stdout",
     "text": [
      "Married: 71.2%\n",
      "Not Married: 28.8%\n"
     ]
    }
   ],
   "metadata": {}
  },
  {
   "cell_type": "markdown",
   "source": [
    "Sample has percentage of married people that is greater than the general population."
   ],
   "metadata": {}
  },
  {
   "cell_type": "markdown",
   "source": [
    "Earnings:\n",
    "o\tMake and plot a graph or graph of your choosing of the 3 earnings values, in order to answer the below question. Identify how the graph gave you your answer.\n",
    "    ♣\tWhat is one conclusion could you draw from visualizing of the earnings in the different year? Please express it in plain language/non-statistics terms/as though you were explaining to one of your friends what happened to earnings between 1974 and 1978?"
   ],
   "metadata": {}
  },
  {
   "cell_type": "code",
   "execution_count": 63,
   "source": [
    "sns.histplot(data=df, x = \"Earnings_1974\")"
   ],
   "outputs": [
    {
     "output_type": "execute_result",
     "data": {
      "text/plain": [
       "<AxesSubplot:xlabel='Earnings_1974', ylabel='Count'>"
      ]
     },
     "metadata": {},
     "execution_count": 63
    },
    {
     "output_type": "display_data",
     "data": {
      "image/png": "[encoded data removed]",
      "text/plain": [
       "<Figure size 432x288 with 1 Axes>"
      ]
     },
     "metadata": {
      "needs_background": "light"
     }
    }
   ],
   "metadata": {}
  },
  {
   "cell_type": "code",
   "execution_count": 64,
   "source": [
    "sns.histplot(data=df, x = \"Earnings_1975\")"
   ],
   "outputs": [
    {
     "output_type": "execute_result",
     "data": {
      "text/plain": [
       "<AxesSubplot:xlabel='Earnings_1975', ylabel='Count'>"
      ]
     },
     "metadata": {},
     "execution_count": 64
    },
    {
     "output_type": "display_data",
     "data": {
      "image/png": "[encoded data removed]",
      "text/plain": [
       "<Figure size 432x288 with 1 Axes>"
      ]
     },
     "metadata": {
      "needs_background": "light"
     }
    }
   ],
   "metadata": {}
  },
  {
   "cell_type": "code",
   "execution_count": 65,
   "source": [
    "sns.histplot(data=df, x = \"Earnings_1978\")"
   ],
   "outputs": [
    {
     "output_type": "execute_result",
     "data": {
      "text/plain": [
       "<AxesSubplot:xlabel='Earnings_1978', ylabel='Count'>"
      ]
     },
     "metadata": {},
     "execution_count": 65
    },
    {
     "output_type": "display_data",
     "data": {
      "image/png": "[encoded data removed]",
      "text/plain": [
       "<Figure size 432x288 with 1 Axes>"
      ]
     },
     "metadata": {
      "needs_background": "light"
     }
    }
   ],
   "metadata": {}
  },
  {
   "cell_type": "code",
   "execution_count": 148,
   "source": [
    "df4 = df[[\"Earnings_1974\", \"Earnings_1975\", \"Earnings_1978\"]]\n",
    "plt.figure()\n",
    "df4.plot.hist(alpha=0.3)"
   ],
   "outputs": [
    {
     "output_type": "execute_result",
     "data": {
      "text/plain": [
       "<AxesSubplot:ylabel='Frequency'>"
      ]
     },
     "metadata": {},
     "execution_count": 148
    },
    {
     "output_type": "display_data",
     "data": {
      "text/plain": [
       "<Figure size 432x288 with 0 Axes>"
      ]
     },
     "metadata": {}
    },
    {
     "output_type": "display_data",
     "data": {
      "image/png": "[encoded data removed]",
      "text/plain": [
       "<Figure size 432x288 with 1 Axes>"
      ]
     },
     "metadata": {
      "needs_background": "light"
     }
    }
   ],
   "metadata": {}
  },
  {
   "cell_type": "markdown",
   "source": [
    "Based on the Histograms, it appears that the earnings generally increased from 1974 to 1978. This is becuase the 1974 earnings tend to be highest on the left side of the distrbution while the 1978 earnings tend to be highest at the right side of the distribution. However, it is not clear whether the earnings increased between 1974 to 1975. To determine this, we look at the median earnings for each year."
   ],
   "metadata": {}
  },
  {
   "cell_type": "code",
   "execution_count": 151,
   "source": [
    "median_1974 = df[\"Earnings_1974\"].median()\n",
    "median_1975 = df[\"Earnings_1975\"].median()\n",
    "median_1978 = df[\"Earnings_1978\"].median()\n",
    "\n",
    "print(\"Median Earnings 1974: \" + str(median_1974))\n",
    "print(\"Median Earnings 1975: \" + str(median_1975))\n",
    "print(\"Median Earnings 1978: \" + str(median_1978))"
   ],
   "outputs": [
    {
     "output_type": "stream",
     "name": "stdout",
     "text": [
      "Median Earnings 1974: 15123.58\n",
      "Median Earnings 1975: 14557.11\n",
      "Median Earnings 1978: 16421.975\n"
     ]
    }
   ],
   "metadata": {}
  },
  {
   "cell_type": "markdown",
   "source": [
    "It appears that the median earnings dropped between 1974 to 1975. This fact is not clearly seen in the histograms."
   ],
   "metadata": {}
  },
  {
   "cell_type": "markdown",
   "source": [
    "Earnings:\n",
    "o\tWhich has the greatest effect size on 1978 earnings: Race, Hispanic, MaritalStatus, or Nodeg? What could you investigate further in an attempt to explain this?"
   ],
   "metadata": {}
  },
  {
   "cell_type": "code",
   "execution_count": null,
   "source": [
    "def EffectSize(group1, group2):\n",
    "    diff = group1.mean() - group2.mean()\n",
    "    var1 = group1.var()\n",
    "    var2 = group2.var()\n",
    "    n1, n2 = len(group1), len(group2)\n",
    "    pooled_var = (n1 * var1 + n2 * var2) / (n1 + n2)\n",
    "    d = diff / np.sqrt(pooled_var)\n",
    "    return d"
   ],
   "outputs": [],
   "metadata": {}
  },
  {
   "cell_type": "code",
   "execution_count": null,
   "source": [
    "# Race\n",
    "EffectSize(df_black[\"Earnings_1978\"], df_nblack[\"Earnings_1978\"])"
   ],
   "outputs": [
    {
     "output_type": "execute_result",
     "data": {
      "text/plain": [
       "-0.31883255859070525"
      ]
     },
     "metadata": {},
     "execution_count": 43
    }
   ],
   "metadata": {}
  },
  {
   "cell_type": "code",
   "execution_count": null,
   "source": [
    "# Hispanic\n",
    "EffectSize(df_Hisp[\"Earnings_1978\"], df_nHisp[\"Earnings_1978\"])"
   ],
   "outputs": [
    {
     "output_type": "execute_result",
     "data": {
      "text/plain": [
       "-0.16210284395555566"
      ]
     },
     "metadata": {},
     "execution_count": 44
    }
   ],
   "metadata": {}
  },
  {
   "cell_type": "code",
   "execution_count": null,
   "source": [
    "# Marital Status\n",
    "EffectSize(df_Mar[\"Earnings_1978\"], df_nMar[\"Earnings_1978\"])"
   ],
   "outputs": [
    {
     "output_type": "execute_result",
     "data": {
      "text/plain": [
       "0.5737396692403472"
      ]
     },
     "metadata": {},
     "execution_count": 45
    }
   ],
   "metadata": {}
  },
  {
   "cell_type": "code",
   "execution_count": null,
   "source": [
    "# No deg\n",
    "df_nodeg = df[df[\"Nodeg\"] == 1]\n",
    "df_deg = df[df[\"Nodeg\"] == 0]\n",
    "EffectSize(df_nodeg[\"Earnings_1978\"], df_deg[\"Earnings_1978\"])"
   ],
   "outputs": [
    {
     "output_type": "execute_result",
     "data": {
      "text/plain": [
       "-0.3367928897615812"
      ]
     },
     "metadata": {},
     "execution_count": 46
    }
   ],
   "metadata": {}
  },
  {
   "cell_type": "markdown",
   "source": [
    "The greatest effect size was between Married and NotMarried people. It appears that married people tend to earn more than their unmarried counterparts. A possible way to further investigate this is to look at the relationship between marital status and age. If marital status tend to be positively associated with age, it could be that the reason why married people tend to earn more is because they tend to be older and therefore are in higher paying positions at work compared to unmarried people. Another possible way is to see if married people tend to be more motivated at work than their unmarried counterpart, and see if that difference in motivation (if it exists) affects their earnings."
   ],
   "metadata": {}
  },
  {
   "cell_type": "markdown",
   "source": [
    "Earnings:\n",
    "o\tPlot a histogram and PMF, and compute useful descriptive statistics (think: average...) for the 1978 earnings value. "
   ],
   "metadata": {}
  },
  {
   "cell_type": "markdown",
   "source": [],
   "metadata": {}
  },
  {
   "cell_type": "code",
   "execution_count": null,
   "source": [
    "df_median_cohort = median_cohort(df, \"Race\", \"Hisp\", \"Nodeg\", \"MaritalStatus\", \"Earnings_1978\")\n",
    "df_median_cohort"
   ],
   "outputs": [],
   "metadata": {}
  },
  {
   "cell_type": "code",
   "execution_count": 58,
   "source": [
    "def median_diff_cohort(df, cohort1, cohort2, cohort3, cohort4, earnings_column):\n",
    "    cohorts = [\"cohort1\", \"cohort2\", \"cohort3\", \"cohort4\"]\n",
    "    grouped = df.groupby([cohort1, cohort2, cohort3, cohort4])\n",
    "    for group in grouped:\n",
    "        print(grouped[group])"
   ],
   "outputs": [],
   "metadata": {}
  },
  {
   "cell_type": "code",
   "execution_count": 120,
   "source": [
    "df_w_group = df[\"grouping\"] = df[\"Race\"] + df[\"Hisp\"] + df[\"MaritalStatus\"] + str(df[\"Nodeg\"])\n",
    "df_w_group = pd.DataFrame(df_w_group)"
   ],
   "outputs": [],
   "metadata": {}
  },
  {
   "cell_type": "code",
   "execution_count": 121,
   "source": [
    "\n",
    "df_w_group[\"Earnings_1978\"] = df[\"Earnings_1978\"]"
   ],
   "outputs": [],
   "metadata": {}
  },
  {
   "cell_type": "code",
   "execution_count": 191,
   "source": [
    "df_w_group[0]"
   ],
   "outputs": [
    {
     "output_type": "execute_result",
     "data": {
      "text/plain": [
       "0        NotBlackNotHispanicMarried0        1\\n1       ...\n",
       "1        NotBlackNotHispanicNotMarried0        1\\n1    ...\n",
       "2        NotBlackNotHispanicMarried0        1\\n1       ...\n",
       "3        NotBlackNotHispanicMarried0        1\\n1       ...\n",
       "4        NotBlackNotHispanicMarried0        1\\n1       ...\n",
       "                               ...                        \n",
       "15987    blackNotHispanicNotMarried0        1\\n1       ...\n",
       "15988    blackNotHispanicMarried0        1\\n1        0\\...\n",
       "15989    NotBlackNotHispanicNotMarried0        1\\n1    ...\n",
       "15990    NotBlackNotHispanicMarried0        1\\n1       ...\n",
       "15991    NotBlackNotHispanicNotMarried0        1\\n1    ...\n",
       "Name: 0, Length: 15992, dtype: object"
      ]
     },
     "metadata": {},
     "execution_count": 191
    }
   ],
   "metadata": {}
  },
  {
   "cell_type": "code",
   "execution_count": null,
   "source": [
    "#Create subsets\n",
    "for i in {'NotBlack', 'black'}:\n",
    "    for j in {'NotHispanic', 'hispanic'}:\n",
    "        for k in {0, 1}:\n",
    "            for l in {'Married', 'NotMarried'}:\n",
    "                Group_ijkl = df[df[\"Race\"] == i & df[\"Hisp\"] == j & df[\"Nodeg\"] == k & df[\"MaritalStatus\"] == l]"
   ],
   "outputs": [],
   "metadata": {}
  },
  {
   "cell_type": "code",
   "execution_count": 195,
   "source": [
    "Group_0 = df[(df[\"Race\"] == \"NotBlack\") & (df[\"Hisp\"] == \"NotHispanic\") & (df[\"Nodeg\"] == 0) & (df[\"MaritalStatus\"] == \"Married\")]\n",
    "Group_1 = df[(df[\"Race\"] == \"NotBlack\") & (df[\"Hisp\"] == \"NotHispanic\") & (df[\"Nodeg\"] == 0) & (df[\"MaritalStatus\"] == \"NotMarried\")]\n",
    "Group_2 = df[(df[\"Race\"] == \"NotBlack\") & (df[\"Hisp\"] == \"NotHispanic\") & (df[\"Nodeg\"] == 1) & (df[\"MaritalStatus\"] == \"Married\")]\n",
    "Group_3 = df[(df[\"Race\"] == \"NotBlack\") & (df[\"Hisp\"] == \"NotHispanic\") & (df[\"Nodeg\"] == 1) & (df[\"MaritalStatus\"] == \"NotMarried\")]\n",
    "Group_4 = df[(df[\"Race\"] == \"NotBlack\") & (df[\"Hisp\"] == \"hispanic\") & (df[\"Nodeg\"] == 0) & (df[\"MaritalStatus\"] == \"Married\")]\n",
    "Group_5 = df[(df[\"Race\"] == \"NotBlack\") & (df[\"Hisp\"] == \"hispanic\") & (df[\"Nodeg\"] == 0) & (df[\"MaritalStatus\"] == \"NotMarried\")]\n",
    "Group_6 = df[(df[\"Race\"] == \"NotBlack\") & (df[\"Hisp\"] == \"hispanic\") & (df[\"Nodeg\"] == 1) & (df[\"MaritalStatus\"] == \"Married\")]\n",
    "Group_7 = df[(df[\"Race\"] == \"NotBlack\") & (df[\"Hisp\"] == \"hispanic\") & (df[\"Nodeg\"] == 1) & (df[\"MaritalStatus\"] == \"NotMarried\")]\n",
    "Group_8 = df[(df[\"Race\"] == \"black\") & (df[\"Hisp\"] == \"NotHispanic\") & (df[\"Nodeg\"] == 0) & (df[\"MaritalStatus\"] == \"Married\")]\n",
    "Group_9 = df[(df[\"Race\"] == \"black\") & (df[\"Hisp\"] == \"NotHispanic\") & (df[\"Nodeg\"] == 0) & (df[\"MaritalStatus\"] == \"NotMarried\")]\n",
    "Group_10 = df[(df[\"Race\"] == \"black\") & (df[\"Hisp\"] == \"NotHispanic\") & (df[\"Nodeg\"] == 1) & (df[\"MaritalStatus\"] == \"Married\")]\n",
    "Group_11 = df[(df[\"Race\"] == \"black\") & (df[\"Hisp\"] == \"NotHispanic\") & (df[\"Nodeg\"] == 1) & (df[\"MaritalStatus\"] == \"NotMarried\")]\n"
   ],
   "outputs": [],
   "metadata": {}
  },
  {
   "cell_type": "code",
   "execution_count": 203,
   "source": [
    "Group_0_Hist = thinkstats2.Hist(Group_0[\"Earnings_1978\"])\n",
    "Group_1_Hist = thinkstats2.Hist(Group_1[\"Earnings_1978\"])\n",
    "Group_2_Hist = thinkstats2.Hist(Group_2[\"Earnings_1978\"])\n",
    "Group_3_Hist = thinkstats2.Hist(Group_3[\"Earnings_1978\"])\n",
    "Group_4_Hist = thinkstats2.Hist(Group_4[\"Earnings_1978\"])\n",
    "Group_5_Hist = thinkstats2.Hist(Group_5[\"Earnings_1978\"])\n",
    "Group_6_Hist = thinkstats2.Hist(Group_6[\"Earnings_1978\"])\n",
    "Group_7_Hist = thinkstats2.Hist(Group_7[\"Earnings_1978\"])\n",
    "Group_8_Hist = thinkstats2.Hist(Group_8[\"Earnings_1978\"])\n",
    "Group_9_Hist = thinkstats2.Hist(Group_9[\"Earnings_1978\"])\n",
    "Group_10_Hist = thinkstats2.Hist(Group_10[\"Earnings_1978\"])\n",
    "Group_11_Hist = thinkstats2.Hist(Group_11[\"Earnings_1978\"])"
   ],
   "outputs": [],
   "metadata": {}
  },
  {
   "cell_type": "code",
   "execution_count": null,
   "source": [
    "Group_0_pmf = thinkstats2.pmf(Group_0[\"Earnings_1978\"])\n",
    "Group_1_pmf = thinkstats2.pmf(Group_1[\"Earnings_1978\"])\n",
    "Group_2_pmf = thinkstats2.pmf(Group_2[\"Earnings_1978\"])\n",
    "Group_3_pmf = thinkstats2.pmf(Group_3[\"Earnings_1978\"])\n",
    "Group_4_pmf = thinkstats2.pmf(Group_4[\"Earnings_1978\"])\n",
    "Group_5_pmf = thinkstats2.pmf(Group_5[\"Earnings_1978\"])\n",
    "Group_6_pmf = thinkstats2.pmf(Group_6[\"Earnings_1978\"])\n",
    "Group_7_pmf = thinkstats2.pmf(Group_7[\"Earnings_1978\"])\n",
    "Group_8_pmf = thinkstats2.pmf(Group_8[\"Earnings_1978\"])\n",
    "Group_9_pmf = thinkstats2.pmf(Group_9[\"Earnings_1978\"])\n",
    "Group_10_pmf = thinkstats2.pmf(Group_10[\"Earnings_1978\"])\n",
    "Group_11_pmf = thinkstats2.pmf(Group_11[\"Earnings_1978\"])"
   ],
   "outputs": [],
   "metadata": {}
  },
  {
   "cell_type": "code",
   "execution_count": 205,
   "source": [
    "# Plot Histograms\n",
    "thinkplot.Hist(Group_0_Hist)\n",
    "thinkplot.config()"
   ],
   "outputs": [
    {
     "output_type": "display_data",
     "data": {
      "image/png": "[encoded data removed]",
      "text/plain": [
       "<Figure size 432x288 with 1 Axes>"
      ]
     },
     "metadata": {
      "needs_background": "light"
     }
    }
   ],
   "metadata": {}
  },
  {
   "cell_type": "markdown",
   "source": [
    "Earnings:\n",
    "What is the difference in median income between the groups? Theorize a reason for the difference between the groups that could be explained with more data. Briefly describe the data you'd need. This does not need to be something you have data for, or know how to solve right now - just one well founded hypothesis on what might explain the difference."
   ],
   "metadata": {}
  },
  {
   "cell_type": "code",
   "execution_count": 166,
   "source": [
    "df_stats = df.groupby([\"Race\", \"Hisp\", \"Nodeg\", \"MaritalStatus\"], as_index=False)[\"Earnings_1978\"].agg(['mean', 'median', 'min', 'max', 'count'])"
   ],
   "outputs": [],
   "metadata": {}
  },
  {
   "cell_type": "code",
   "execution_count": 167,
   "source": [
    "df_stats = df_stats.reset_index()\n",
    "df_stats"
   ],
   "outputs": [
    {
     "output_type": "execute_result",
     "data": {
      "text/html": [
       "<div>\n",
       "<style scoped>\n",
       "    .dataframe tbody tr th:only-of-type {\n",
       "        vertical-align: middle;\n",
       "    }\n",
       "\n",
       "    .dataframe tbody tr th {\n",
       "        vertical-align: top;\n",
       "    }\n",
       "\n",
       "    .dataframe thead th {\n",
       "        text-align: right;\n",
       "    }\n",
       "</style>\n",
       "<table border=\"1\" class=\"dataframe\">\n",
       "  <thead>\n",
       "    <tr style=\"text-align: right;\">\n",
       "      <th></th>\n",
       "      <th>Race</th>\n",
       "      <th>Hisp</th>\n",
       "      <th>Nodeg</th>\n",
       "      <th>MaritalStatus</th>\n",
       "      <th>mean</th>\n",
       "      <th>median</th>\n",
       "      <th>min</th>\n",
       "      <th>max</th>\n",
       "      <th>count</th>\n",
       "    </tr>\n",
       "  </thead>\n",
       "  <tbody>\n",
       "    <tr>\n",
       "      <th>0</th>\n",
       "      <td>NotBlack</td>\n",
       "      <td>NotHispanic</td>\n",
       "      <td>0</td>\n",
       "      <td>Married</td>\n",
       "      <td>17235.340482</td>\n",
       "      <td>21630.225</td>\n",
       "      <td>0.0</td>\n",
       "      <td>25564.67</td>\n",
       "      <td>7426</td>\n",
       "    </tr>\n",
       "    <tr>\n",
       "      <th>1</th>\n",
       "      <td>NotBlack</td>\n",
       "      <td>NotHispanic</td>\n",
       "      <td>0</td>\n",
       "      <td>NotMarried</td>\n",
       "      <td>12709.404624</td>\n",
       "      <td>13111.130</td>\n",
       "      <td>0.0</td>\n",
       "      <td>25564.67</td>\n",
       "      <td>2634</td>\n",
       "    </tr>\n",
       "    <tr>\n",
       "      <th>2</th>\n",
       "      <td>NotBlack</td>\n",
       "      <td>NotHispanic</td>\n",
       "      <td>1</td>\n",
       "      <td>Married</td>\n",
       "      <td>15205.164579</td>\n",
       "      <td>17010.110</td>\n",
       "      <td>0.0</td>\n",
       "      <td>25564.67</td>\n",
       "      <td>2387</td>\n",
       "    </tr>\n",
       "    <tr>\n",
       "      <th>3</th>\n",
       "      <td>NotBlack</td>\n",
       "      <td>NotHispanic</td>\n",
       "      <td>1</td>\n",
       "      <td>NotMarried</td>\n",
       "      <td>8310.609171</td>\n",
       "      <td>7376.811</td>\n",
       "      <td>0.0</td>\n",
       "      <td>25564.67</td>\n",
       "      <td>1217</td>\n",
       "    </tr>\n",
       "    <tr>\n",
       "      <th>4</th>\n",
       "      <td>NotBlack</td>\n",
       "      <td>hispanic</td>\n",
       "      <td>0</td>\n",
       "      <td>Married</td>\n",
       "      <td>15387.293929</td>\n",
       "      <td>17774.835</td>\n",
       "      <td>0.0</td>\n",
       "      <td>25564.67</td>\n",
       "      <td>390</td>\n",
       "    </tr>\n",
       "    <tr>\n",
       "      <th>5</th>\n",
       "      <td>NotBlack</td>\n",
       "      <td>hispanic</td>\n",
       "      <td>0</td>\n",
       "      <td>NotMarried</td>\n",
       "      <td>11994.207503</td>\n",
       "      <td>11521.830</td>\n",
       "      <td>0.0</td>\n",
       "      <td>25564.67</td>\n",
       "      <td>145</td>\n",
       "    </tr>\n",
       "    <tr>\n",
       "      <th>6</th>\n",
       "      <td>NotBlack</td>\n",
       "      <td>hispanic</td>\n",
       "      <td>1</td>\n",
       "      <td>Married</td>\n",
       "      <td>13930.807568</td>\n",
       "      <td>14356.855</td>\n",
       "      <td>0.0</td>\n",
       "      <td>25564.67</td>\n",
       "      <td>450</td>\n",
       "    </tr>\n",
       "    <tr>\n",
       "      <th>7</th>\n",
       "      <td>NotBlack</td>\n",
       "      <td>hispanic</td>\n",
       "      <td>1</td>\n",
       "      <td>NotMarried</td>\n",
       "      <td>8526.376053</td>\n",
       "      <td>7928.003</td>\n",
       "      <td>0.0</td>\n",
       "      <td>25564.67</td>\n",
       "      <td>167</td>\n",
       "    </tr>\n",
       "    <tr>\n",
       "      <th>8</th>\n",
       "      <td>black</td>\n",
       "      <td>NotHispanic</td>\n",
       "      <td>0</td>\n",
       "      <td>Married</td>\n",
       "      <td>14354.021437</td>\n",
       "      <td>16321.490</td>\n",
       "      <td>0.0</td>\n",
       "      <td>25564.67</td>\n",
       "      <td>428</td>\n",
       "    </tr>\n",
       "    <tr>\n",
       "      <th>9</th>\n",
       "      <td>black</td>\n",
       "      <td>NotHispanic</td>\n",
       "      <td>0</td>\n",
       "      <td>NotMarried</td>\n",
       "      <td>10660.661030</td>\n",
       "      <td>9175.943</td>\n",
       "      <td>0.0</td>\n",
       "      <td>25564.67</td>\n",
       "      <td>238</td>\n",
       "    </tr>\n",
       "    <tr>\n",
       "      <th>10</th>\n",
       "      <td>black</td>\n",
       "      <td>NotHispanic</td>\n",
       "      <td>1</td>\n",
       "      <td>Married</td>\n",
       "      <td>12838.984286</td>\n",
       "      <td>14112.290</td>\n",
       "      <td>0.0</td>\n",
       "      <td>25564.67</td>\n",
       "      <td>301</td>\n",
       "    </tr>\n",
       "    <tr>\n",
       "      <th>11</th>\n",
       "      <td>black</td>\n",
       "      <td>NotHispanic</td>\n",
       "      <td>1</td>\n",
       "      <td>NotMarried</td>\n",
       "      <td>7533.810435</td>\n",
       "      <td>5975.926</td>\n",
       "      <td>0.0</td>\n",
       "      <td>25564.67</td>\n",
       "      <td>209</td>\n",
       "    </tr>\n",
       "  </tbody>\n",
       "</table>\n",
       "</div>"
      ],
      "text/plain": [
       "        Race         Hisp  Nodeg MaritalStatus          mean     median  min  \\\n",
       "0   NotBlack  NotHispanic      0       Married  17235.340482  21630.225  0.0   \n",
       "1   NotBlack  NotHispanic      0    NotMarried  12709.404624  13111.130  0.0   \n",
       "2   NotBlack  NotHispanic      1       Married  15205.164579  17010.110  0.0   \n",
       "3   NotBlack  NotHispanic      1    NotMarried   8310.609171   7376.811  0.0   \n",
       "4   NotBlack     hispanic      0       Married  15387.293929  17774.835  0.0   \n",
       "5   NotBlack     hispanic      0    NotMarried  11994.207503  11521.830  0.0   \n",
       "6   NotBlack     hispanic      1       Married  13930.807568  14356.855  0.0   \n",
       "7   NotBlack     hispanic      1    NotMarried   8526.376053   7928.003  0.0   \n",
       "8      black  NotHispanic      0       Married  14354.021437  16321.490  0.0   \n",
       "9      black  NotHispanic      0    NotMarried  10660.661030   9175.943  0.0   \n",
       "10     black  NotHispanic      1       Married  12838.984286  14112.290  0.0   \n",
       "11     black  NotHispanic      1    NotMarried   7533.810435   5975.926  0.0   \n",
       "\n",
       "         max  count  \n",
       "0   25564.67   7426  \n",
       "1   25564.67   2634  \n",
       "2   25564.67   2387  \n",
       "3   25564.67   1217  \n",
       "4   25564.67    390  \n",
       "5   25564.67    145  \n",
       "6   25564.67    450  \n",
       "7   25564.67    167  \n",
       "8   25564.67    428  \n",
       "9   25564.67    238  \n",
       "10  25564.67    301  \n",
       "11  25564.67    209  "
      ]
     },
     "metadata": {},
     "execution_count": 167
    }
   ],
   "metadata": {}
  },
  {
   "cell_type": "markdown",
   "source": [],
   "metadata": {}
  },
  {
   "cell_type": "code",
   "execution_count": 81,
   "source": [
    "sns.histplot(data=df_w_group, x = \"Earnings_1978\", hue = 0, legend=False)"
   ],
   "outputs": [
    {
     "output_type": "execute_result",
     "data": {
      "text/plain": [
       "<AxesSubplot:xlabel='Earnings_1978', ylabel='Count'>"
      ]
     },
     "metadata": {},
     "execution_count": 81
    },
    {
     "output_type": "display_data",
     "data": {
      "image/png": "[encoded data removed]",
      "text/plain": [
       "<Figure size 432x288 with 1 Axes>"
      ]
     },
     "metadata": {
      "needs_background": "light"
     }
    }
   ],
   "metadata": {}
  },
  {
   "cell_type": "markdown",
   "source": [
    "Earnings:\n",
    "Are there outliers in the 1978 earnings data? Demonstrate this in some way with your code. What can you infer from the presence of outliers that may impact analysis of this data"
   ],
   "metadata": {}
  },
  {
   "cell_type": "code",
   "execution_count": 198,
   "source": [
    "# Checking for outliers using +/- 1.5*IQR\n",
    "IQR = np.percentile(df[\"Earnings_1978\"], 75)-np.percentile(df[\"Earnings_1978\"], 25)\n",
    "min_value = np.percentile(df[\"Earnings_1978\"], 25) - 1.5*IQR\n",
    "max_value = np.percentile(df[\"Earnings_1978\"], 25) + 1.5*IQR"
   ],
   "outputs": [],
   "metadata": {}
  },
  {
   "cell_type": "code",
   "execution_count": 202,
   "source": [
    "# Retrieving outliers values\n",
    "df[(df[\"Earnings_1978\"] < min_value) | (df[\"Earnings_1978\"] > max_value)]"
   ],
   "outputs": [
    {
     "output_type": "execute_result",
     "data": {
      "text/html": [
       "<div>\n",
       "<style scoped>\n",
       "    .dataframe tbody tr th:only-of-type {\n",
       "        vertical-align: middle;\n",
       "    }\n",
       "\n",
       "    .dataframe tbody tr th {\n",
       "        vertical-align: top;\n",
       "    }\n",
       "\n",
       "    .dataframe thead th {\n",
       "        text-align: right;\n",
       "    }\n",
       "</style>\n",
       "<table border=\"1\" class=\"dataframe\">\n",
       "  <thead>\n",
       "    <tr style=\"text-align: right;\">\n",
       "      <th></th>\n",
       "      <th>Age</th>\n",
       "      <th>Eduacation</th>\n",
       "      <th>Race</th>\n",
       "      <th>Hisp</th>\n",
       "      <th>MaritalStatus</th>\n",
       "      <th>Nodeg</th>\n",
       "      <th>Earnings_1974</th>\n",
       "      <th>Earnings_1975</th>\n",
       "      <th>Earnings_1978</th>\n",
       "      <th>grouping</th>\n",
       "    </tr>\n",
       "  </thead>\n",
       "  <tbody>\n",
       "  </tbody>\n",
       "</table>\n",
       "</div>"
      ],
      "text/plain": [
       "Empty DataFrame\n",
       "Columns: [Age, Eduacation, Race, Hisp, MaritalStatus, Nodeg, Earnings_1974, Earnings_1975, Earnings_1978, grouping]\n",
       "Index: []"
      ]
     },
     "metadata": {},
     "execution_count": 202
    }
   ],
   "metadata": {}
  },
  {
   "cell_type": "markdown",
   "source": [
    "No values were found to be an outlier based on the the interquatile rule to find outliers."
   ],
   "metadata": {}
  }
 ],
 "metadata": {
  "orig_nbformat": 4,
  "language_info": {
   "name": "python",
   "version": "3.8.8",
   "mimetype": "text/x-python",
   "codemirror_mode": {
    "name": "ipython",
    "version": 3
   },
   "pygments_lexer": "ipython3",
   "nbconvert_exporter": "python",
   "file_extension": ".py"
  },
  "kernelspec": {
   "name": "python3",
   "display_name": "Python 3.8.8 64-bit ('base': conda)"
  },
  "interpreter": {
   "hash": "dca0ade3e726a953b501b15e8e990130d2b7799f14cfd9f4271676035ebe5511"
  }
 },
 "nbformat": 4,
 "nbformat_minor": 2
}